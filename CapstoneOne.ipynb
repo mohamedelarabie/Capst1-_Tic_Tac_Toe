{
 "cells": [
  {
   "cell_type": "code",
   "execution_count": 1,
   "id": "b17cf247",
   "metadata": {},
   "outputs": [],
   "source": [
    "# Design the game board as a 3x3 list of lists\n",
    "\n",
    "board = [\n",
    "    ['_','_','_'],\n",
    "    ['_','_','_'],\n",
    "    ['_','_','_']\n",
    "]"
   ]
  },
  {
   "cell_type": "code",
   "execution_count": 2,
   "id": "a1e1633c",
   "metadata": {},
   "outputs": [],
   "source": [
    "# Create a function to print the game board:\n",
    "def game_board (board):\n",
    "    for i in board:\n",
    "        print(' '.join(i))\n",
    "        print()"
   ]
  },
  {
   "cell_type": "code",
   "execution_count": 3,
   "id": "d8cf2774",
   "metadata": {},
   "outputs": [],
   "source": [
    "# Create a function to handle player moves\n",
    "def move(board , player):\n",
    "        while True:\n",
    "            move = input(f\"Player {player}, enter your move (row space column): \")\n",
    "            row, col = move.split(\" \")\n",
    "            row = int(row)\n",
    "            col = int(col)\n",
    "            if(row > -1 and row < 3 and col > -1 and col < 3):\n",
    "                if board[row][col] == \"_\":\n",
    "                        board[row][col] = player\n",
    "                        break\n",
    "                else:\n",
    "                    print(\"Invalid move. Try again.\")\n",
    "            else:\n",
    "                print(\"Should number between 0: 2\")"
   ]
  },
  {
   "cell_type": "code",
   "execution_count": 4,
   "id": "8e1797c3",
   "metadata": {},
   "outputs": [],
   "source": [
    "# Create a function to check for a win:\n",
    "def check_win(board , player):\n",
    "    # rows\n",
    "    for row in board:\n",
    "        if all(elemant == player for elemant in row):\n",
    "            return True\n",
    "        \n",
    "   #colums     \n",
    "    for col in range(3):\n",
    "        if all(board[row][col] == player for row in range(3)):\n",
    "            return True\n",
    "    \n",
    "    #diagonals\n",
    "    if board[0][0] == board[1][1] == board[2][2] == player:\n",
    "        return True\n",
    "    if board[0][2] == board[1][1] == board[2][0] == player:\n",
    "        return True\n",
    "    return False"
   ]
  },
  {
   "cell_type": "code",
   "execution_count": 5,
   "id": "b9491e05",
   "metadata": {},
   "outputs": [],
   "source": [
    "# Create a function to check for a tie:\n",
    "\n",
    "def check_tie(board):\n",
    "    for row in board:\n",
    "        if \"_\" in row:\n",
    "            return False\n",
    "    return True"
   ]
  },
  {
   "cell_type": "code",
   "execution_count": 6,
   "id": "67d97069",
   "metadata": {},
   "outputs": [],
   "source": [
    "# Create a main game loop:\n",
    "def play_game():\n",
    "    players = [\"X\", \"O\"]\n",
    "    current_player = players[0]\n",
    "\n",
    "    while True:\n",
    "        game_board(board)\n",
    "        move(board, current_player)\n",
    "\n",
    "        if check_win(board, current_player):\n",
    "            game_board(board)\n",
    "            print(f\"Player {current_player} wins!\")\n",
    "            break\n",
    "        elif check_tie(board):\n",
    "            game_board(board)\n",
    "            print(\"It's a tie!\")\n",
    "            break\n",
    "\n",
    "        current_player = players[(players.index(current_player) + 1) % 2]"
   ]
  },
  {
   "cell_type": "code",
   "execution_count": 7,
   "id": "95ddf639",
   "metadata": {
    "scrolled": true
   },
   "outputs": [
    {
     "name": "stdout",
     "output_type": "stream",
     "text": [
      "_ _ _\n",
      "\n",
      "_ _ _\n",
      "\n",
      "_ _ _\n",
      "\n",
      "Player X, enter your move (row space column): 0 1\n",
      "_ X _\n",
      "\n",
      "_ _ _\n",
      "\n",
      "_ _ _\n",
      "\n",
      "Player O, enter your move (row space column): 0 1\n",
      "Invalid move. Try again.\n",
      "Player O, enter your move (row space column): 1 5\n",
      "Should number between 0: 2\n",
      "Player O, enter your move (row space column): 1 1\n",
      "_ X _\n",
      "\n",
      "_ O _\n",
      "\n",
      "_ _ _\n",
      "\n",
      "Player X, enter your move (row space column): 0 0\n",
      "X X _\n",
      "\n",
      "_ O _\n",
      "\n",
      "_ _ _\n",
      "\n",
      "Player O, enter your move (row space column): 0 2\n",
      "X X O\n",
      "\n",
      "_ O _\n",
      "\n",
      "_ _ _\n",
      "\n",
      "Player X, enter your move (row space column): 1 0\n",
      "X X O\n",
      "\n",
      "X O _\n",
      "\n",
      "_ _ _\n",
      "\n",
      "Player O, enter your move (row space column): 2 0\n",
      "X X O\n",
      "\n",
      "X O _\n",
      "\n",
      "O _ _\n",
      "\n",
      "Player O wins!\n"
     ]
    }
   ],
   "source": [
    "# Start game :\n",
    "play_game()"
   ]
  }
 ],
 "metadata": {
  "kernelspec": {
   "display_name": "Python 3 (ipykernel)",
   "language": "python",
   "name": "python3"
  },
  "language_info": {
   "codemirror_mode": {
    "name": "ipython",
    "version": 3
   },
   "file_extension": ".py",
   "mimetype": "text/x-python",
   "name": "python",
   "nbconvert_exporter": "python",
   "pygments_lexer": "ipython3",
   "version": "3.9.7"
  }
 },
 "nbformat": 4,
 "nbformat_minor": 5
}
